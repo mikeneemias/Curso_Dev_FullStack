{
  "nbformat": 4,
  "nbformat_minor": 0,
  "metadata": {
    "colab": {
      "name": "Missao_pratica_N2_decimal_to_bin.ipynb",
      "provenance": [],
      "collapsed_sections": [],
      "include_colab_link": true
    },
    "kernelspec": {
      "name": "python3",
      "display_name": "Python 3"
    },
    "language_info": {
      "name": "python"
    }
  },
  "cells": [
    {
      "cell_type": "markdown",
      "metadata": {
        "id": "view-in-github",
        "colab_type": "text"
      },
      "source": [
        "<a href=\"https://colab.research.google.com/github/mikeneemias/Curso_Dev_FullStack/blob/main/Missao_pratica_N2_decimal_to_bin.ipynb\" target=\"_parent\"><img src=\"https://colab.research.google.com/assets/colab-badge.svg\" alt=\"Open In Colab\"/></a>"
      ]
    },
    {
      "cell_type": "code",
      "execution_count": null,
      "metadata": {
        "id": "BdIBnuASK5xz",
        "colab": {
          "base_uri": "https://localhost:8080/"
        },
        "outputId": "621f8116-8e38-4a81-ce4c-edf00e901db0"
      },
      "outputs": [
        {
          "output_type": "stream",
          "name": "stdout",
          "text": [
            "Digite o número que deseja converter: 100\n",
            "Número na base decimal: 100\n",
            "Conversão para base binária: 1100100\n"
          ]
        }
      ],
      "source": [
        "# Miquéias Neemias Matias Martins\n",
        "# Matricula: 202205048094\n",
        "\n",
        "def decimal_to_binario(decimal):\n",
        "    binario = ''\n",
        "    while decimal != 0:\n",
        "\t    binario += str(decimal % 2)\n",
        "\t    decimal = int( decimal / 2)\n",
        "    return binario[::-1]\n",
        "\n",
        "num = eval(input(\"Digite o número que deseja converter: \"))\n",
        "\n",
        "conversao = decimal_to_binario(num)\n",
        "\n",
        "print(f\"Número na base decimal: {num}\")\n",
        "if num < 0:\n",
        "  print(f\"Conversão para base binária: -{conversao}\")\n",
        "else:\n",
        "  print(f\"Conversão para base binária: {conversao}\")\n"
      ]
    },
    {
      "cell_type": "markdown",
      "source": [
        "# Nova seção"
      ],
      "metadata": {
        "id": "vUxmFP7BjgST"
      }
    }
  ]
}